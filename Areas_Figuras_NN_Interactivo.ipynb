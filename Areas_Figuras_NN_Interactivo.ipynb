{
  "cells": [
    {
      "cell_type": "markdown",
      "id": "a991e656",
      "metadata": {
        "id": "a991e656"
      },
      "source": [
        "# Cálculo de áreas de figuras geométricas con redes neuronales (¡Interactivo!)\n",
        "Este notebook muestra cómo una red neuronal aprende a calcular áreas de diferentes figuras (cuadrados, rectángulos, triángulos, círculos) a partir de sus parámetros, y permite probar el modelo con entradas del usuario de manera interactiva.\n",
        "\n",
        "Autor: Dario Coronel  \n",
        "Contacto: dario.coronel@gmail.com"
      ]
    },
    {
      "cell_type": "code",
      "execution_count": null,
      "id": "985e9355",
      "metadata": {
        "id": "985e9355"
      },
      "outputs": [],
      "source": [
        "# Instalación de librerías\n",
        "# !pip install tensorflow matplotlib scikit-learn pandas ipywidgets\n",
        "import tensorflow as tf\n",
        "import numpy as np\n",
        "import matplotlib.pyplot as plt\n",
        "import ipywidgets as widgets\n",
        "from IPython.display import display, clear_output"
      ]
    },
    {
      "cell_type": "markdown",
      "id": "f58614d2",
      "metadata": {
        "id": "f58614d2"
      },
      "source": [
        "## Preparación del dataset"
      ]
    },
    {
      "cell_type": "code",
      "execution_count": null,
      "id": "77718260",
      "metadata": {
        "id": "77718260"
      },
      "outputs": [],
      "source": [
        "# Dataset de ejemplo\n",
        "X = np.array([\n",
        "    [1,0,0,0, 4, 0, 0, 0],   # Cuadrado de lado 4 (área 16)\n",
        "    [1,0,0,0, 10,0, 0, 0],   # Cuadrado de lado 10 (área 100)\n",
        "    [0,1,0,0, 0, 3, 5, 0],   # Rectángulo base 3, altura 5 (área 15)\n",
        "    [0,1,0,0, 0, 7, 2, 0],   # Rectángulo base 7, altura 2 (área 14)\n",
        "    [0,0,1,0, 0, 8, 2, 0],   # Triángulo base 8, altura 2 (área 8)\n",
        "    [0,0,1,0, 0, 6, 9, 0],   # Triángulo base 6, altura 9 (área 27)\n",
        "    [0,0,0,1, 0, 0, 0, 7],   # Círculo radio 7 (área 153.938)\n",
        "    [0,0,0,1, 0, 0, 0, 3],   # Círculo radio 3 (área 28.274)\n",
        "    [1,0,0,0, 2, 0, 0, 0],   # Cuadrado de lado 2 (área 4)\n",
        "    [0,1,0,0, 0, 10,1, 0],   # Rectángulo base 10, altura 1 (área 10)\n",
        "    [0,0,1,0, 0, 3, 5, 0],   # Triángulo base 3, altura 5 (área 7.5)\n",
        "    [0,0,0,1, 0, 0, 0, 5],   # Círculo radio 5 (área 78.5398)\n",
        "], dtype=float)\n",
        "\n",
        "y = np.array([\n",
        "    16, 100, 15, 14, 8, 27,\n",
        "    np.pi*7*7, np.pi*3*3, 4, 10, 7.5, np.pi*5*5\n",
        "], dtype=float)"
      ]
    },
    {
      "cell_type": "markdown",
      "id": "21ac480e",
      "metadata": {
        "id": "21ac480e"
      },
      "source": [
        "## Definición y entrenamiento del modelo (con EarlyStopping)"
      ]
    },
    {
      "cell_type": "code",
      "execution_count": null,
      "id": "4c6e5872",
      "metadata": {
        "id": "4c6e5872"
      },
      "outputs": [],
      "source": [
        "from tensorflow.keras.callbacks import EarlyStopping\n",
        "\n",
        "early = EarlyStopping(monitor='loss', patience=30, restore_best_weights=True)\n",
        "\n",
        "model = tf.keras.Sequential([\n",
        "    tf.keras.layers.Dense(units=16, activation='relu', input_shape=[8]),\n",
        "    tf.keras.layers.Dense(units=8, activation='relu'),\n",
        "    tf.keras.layers.Dense(units=1)\n",
        "])\n",
        "\n",
        "model.compile(\n",
        "    optimizer=tf.keras.optimizers.Adam(0.05),\n",
        "    loss='mean_squared_error'\n",
        ")\n",
        "\n",
        "history = model.fit(X, y, epochs=1000, verbose=False, callbacks=[early])"
      ]
    },
    {
      "cell_type": "code",
      "execution_count": null,
      "id": "6797af24",
      "metadata": {
        "id": "6797af24"
      },
      "outputs": [],
      "source": [
        "plt.plot(history.history['loss'])\n",
        "plt.xlabel('Épocas')\n",
        "plt.ylabel('Pérdida')\n",
        "plt.title('Entrenamiento')\n",
        "plt.show()"
      ]
    },
    {
      "cell_type": "markdown",
      "id": "6710b862",
      "metadata": {
        "id": "6710b862"
      },
      "source": [
        "## Predicción interactiva con inputs del usuario"
      ]
    },
    {
      "cell_type": "code",
      "execution_count": null,
      "id": "2b98c65e",
      "metadata": {
        "id": "2b98c65e"
      },
      "outputs": [],
      "source": [
        "figura = widgets.Dropdown(\n",
        "    options=[('Cuadrado', 'cuadrado'), ('Rectángulo', 'rectangulo'), ('Triángulo', 'triangulo'), ('Círculo', 'circulo')],\n",
        "    value='cuadrado',\n",
        "    description='Figura:',\n",
        "    style={'description_width': 'initial'}\n",
        ")\n",
        "lado = widgets.FloatSlider(value=5, min=1, max=20, step=0.1, description='Lado:', style={'description_width': 'initial'})\n",
        "base = widgets.FloatSlider(value=5, min=1, max=20, step=0.1, description='Base:', style={'description_width': 'initial'})\n",
        "altura = widgets.FloatSlider(value=5, min=1, max=20, step=0.1, description='Altura:', style={'description_width': 'initial'})\n",
        "radio = widgets.FloatSlider(value=5, min=1, max=20, step=0.1, description='Radio:', style={'description_width': 'initial'})\n",
        "\n",
        "inputs_box = widgets.VBox([lado])\n",
        "\n",
        "def actualizar_inputs(*args):\n",
        "    if figura.value == 'cuadrado':\n",
        "        inputs_box.children = [lado]\n",
        "    elif figura.value == 'rectangulo':\n",
        "        inputs_box.children = [base, altura]\n",
        "    elif figura.value == 'triangulo':\n",
        "        inputs_box.children = [base, altura]\n",
        "    else:\n",
        "        inputs_box.children = [radio]\n",
        "\n",
        "figura.observe(actualizar_inputs, names='value')\n",
        "\n",
        "boton = widgets.Button(description='Predecir área', button_style='success')\n",
        "salida = widgets.Output()\n",
        "\n",
        "def calcular_area(figura, lado, base, altura, radio):\n",
        "    if figura=='cuadrado':\n",
        "        return lado**2\n",
        "    elif figura=='rectangulo':\n",
        "        return base*altura\n",
        "    elif figura=='triangulo':\n",
        "        return (base*altura)/2\n",
        "    elif figura=='circulo':\n",
        "        return np.pi*radio*radio\n",
        "\n",
        "def on_button_clicked(b):\n",
        "    salida.clear_output()\n",
        "    # One-hot y features\n",
        "    if figura.value=='cuadrado':\n",
        "        x = np.array([[1,0,0,0, lado.value,0,0,0]])\n",
        "        area_mat = calcular_area('cuadrado', lado.value, 0,0,0)\n",
        "    elif figura.value=='rectangulo':\n",
        "        x = np.array([[0,1,0,0, 0,base.value,altura.value,0]])\n",
        "        area_mat = calcular_area('rectangulo', 0, base.value, altura.value, 0)\n",
        "    elif figura.value=='triangulo':\n",
        "        x = np.array([[0,0,1,0, 0,base.value,altura.value,0]])\n",
        "        area_mat = calcular_area('triangulo', 0, base.value, altura.value, 0)\n",
        "    else:\n",
        "        x = np.array([[0,0,0,1, 0,0,0,radio.value]])\n",
        "        area_mat = calcular_area('circulo', 0,0,0,radio.value)\n",
        "    # Predicción\n",
        "    area_pred = model.predict(x)[0][0]\n",
        "    with salida:\n",
        "        print(f'Área matemática: {area_mat:.4f}')\n",
        "        print(f'Área predicha por la red: {area_pred:.4f}')\n",
        "        print(f'Error absoluto: {abs(area_mat-area_pred):.4f}')\n",
        "\n",
        "boton.on_click(on_button_clicked)\n",
        "\n",
        "display(widgets.VBox([figura, inputs_box, boton, salida]))"
      ]
    },
    {
      "cell_type": "markdown",
      "id": "a7b8fb5d",
      "metadata": {
        "id": "a7b8fb5d"
      },
      "source": [
        "---\n",
        "Autor: Dario Coronel  \n",
        "Contacto: dario.coronel@gmail.com"
      ]
    }
  ],
  "metadata": {
    "colab": {
      "provenance": [],
      "toc_visible": true
    }
  },
  "nbformat": 4,
  "nbformat_minor": 5
}