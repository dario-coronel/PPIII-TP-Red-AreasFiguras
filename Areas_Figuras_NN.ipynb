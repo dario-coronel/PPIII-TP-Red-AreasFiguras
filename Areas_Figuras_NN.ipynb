{
 "cells": [
  {
   "cell_type": "markdown",
   "id": "3ca410bc",
   "metadata": {},
   "source": [
    "# Cálculo de áreas de figuras geométricas usando redes neuronales en TensorFlow\n",
    "Este notebook muestra cómo una red neuronal puede aprender a calcular áreas de diferentes figuras (cuadrados, rectángulos, triángulos, círculos) a partir de sus parámetros.\n",
    "\n",
    "Ejemplo educativo para materia de Programación o Inteligencia Artificial.\n",
    "\n",
    "Autor: Dario Coronel"
   ]
  },
  {
   "cell_type": "code",
   "execution_count": null,
   "id": "83aae5d0",
   "metadata": {},
   "outputs": [],
   "source": [
    "# Instalación (si es necesario, descomenta la siguiente línea)\n",
    "# !pip install tensorflow matplotlib\n",
    "import tensorflow as tf\n",
    "import numpy as np\n",
    "import matplotlib.pyplot as plt"
   ]
  },
  {
   "cell_type": "markdown",
   "id": "f7259148",
   "metadata": {},
   "source": [
    "## Preparación del dataset\n",
    "Codificamos el tipo de figura con one-hot y sus parámetros. Ejemplo: \n",
    "- Cuadrado: [1,0,0,0, lado, 0, 0, 0]\n",
    "- Rectángulo: [0,1,0,0, 0, base, altura, 0]\n",
    "- Triángulo: [0,0,1,0, 0, base, altura, 0]\n",
    "- Círculo: [0,0,0,1, 0, 0, 0, radio]\n",
    "\n",
    "La salida es el área esperada."
   ]
  },
  {
   "cell_type": "code",
   "execution_count": null,
   "id": "680a0b06",
   "metadata": {},
   "outputs": [],
   "source": [
    "# Dataset de ejemplo\n",
    "X = np.array([\n",
    "    [1,0,0,0, 4, 0, 0, 0],   # Cuadrado de lado 4 (área 16)\n",
    "    [1,0,0,0, 10,0, 0, 0],   # Cuadrado de lado 10 (área 100)\n",
    "    [0,1,0,0, 0, 3, 5, 0],   # Rectángulo base 3, altura 5 (área 15)\n",
    "    [0,1,0,0, 0, 7, 2, 0],   # Rectángulo base 7, altura 2 (área 14)\n",
    "    [0,0,1,0, 0, 8, 2, 0],   # Triángulo base 8, altura 2 (área 8)\n",
    "    [0,0,1,0, 0, 6, 9, 0],   # Triángulo base 6, altura 9 (área 27)\n",
    "    [0,0,0,1, 0, 0, 0, 7],   # Círculo radio 7 (área 153.938)\n",
    "    [0,0,0,1, 0, 0, 0, 3],   # Círculo radio 3 (área 28.274)\n",
    "    [1,0,0,0, 2, 0, 0, 0],   # Cuadrado de lado 2 (área 4)\n",
    "    [0,1,0,0, 0, 10,1, 0],   # Rectángulo base 10, altura 1 (área 10)\n",
    "    [0,0,1,0, 0, 3, 5, 0],   # Triángulo base 3, altura 5 (área 7.5)\n",
    "    [0,0,0,1, 0, 0, 0, 5],   # Círculo radio 5 (área 78.5398)\n",
    "], dtype=float)\n",
    "\n",
    "y = np.array([\n",
    "    16, 100, 15, 14, 8, 27, \n",
    "    np.pi*7*7, np.pi*3*3, 4, 10, 7.5, np.pi*5*5\n",
    "], dtype=float)\n",
    "\n",
    "print('Forma de X:', X.shape)\n",
    "print('Primeros X:', X[:3])\n",
    "print('Áreas esperadas:', y[:3])"
   ]
  },
  {
   "cell_type": "markdown",
   "id": "08da289a",
   "metadata": {},
   "source": [
    "## Definición y entrenamiento del modelo"
   ]
  },
  {
   "cell_type": "code",
   "execution_count": null,
   "id": "14f052c5",
   "metadata": {},
   "outputs": [],
   "source": [
    "model = tf.keras.Sequential([\n",
    "    tf.keras.layers.Dense(units=16, activation='relu', input_shape=[8]),\n",
    "    tf.keras.layers.Dense(units=8, activation='relu'),\n",
    "    tf.keras.layers.Dense(units=1)\n",
    "])\n",
    "\n",
    "model.compile(\n",
    "    optimizer=tf.keras.optimizers.Adam(0.05),\n",
    "    loss='mean_squared_error'\n",
    ")\n",
    "\n",
    "print('Entrenando modelo...')\n",
    "history = model.fit(X, y, epochs=400, verbose=False)\n",
    "print('Modelo entrenado.')"
   ]
  },
  {
   "cell_type": "code",
   "execution_count": null,
   "id": "357087be",
   "metadata": {},
   "outputs": [],
   "source": [
    "plt.plot(history.history['loss'])\n",
    "plt.xlabel('Épocas')\n",
    "plt.ylabel('Pérdida')\n",
    "plt.title('Entrenamiento')\n",
    "plt.show()"
   ]
  },
  {
   "cell_type": "markdown",
   "id": "c473205a",
   "metadata": {},
   "source": [
    "## Pruebas de predicción\n",
    "Probamos la red con nuevos ejemplos no vistos en el entrenamiento."
   ]
  },
  {
   "cell_type": "code",
   "execution_count": null,
   "id": "7dd6e70b",
   "metadata": {},
   "outputs": [],
   "source": [
    "# Cuadrado lado 6\n",
    "test = np.array([[1,0,0,0, 6,0,0,0]])\n",
    "pred = model.predict(test)[0][0]\n",
    "print('Área cuadrado lado 6, predicha:', pred, 'esperada:', 36)\n",
    "\n",
    "# Rectángulo base 5, altura 3\n",
    "test = np.array([[0,1,0,0, 0,5,3,0]])\n",
    "pred = model.predict(test)[0][0]\n",
    "print('Área rectángulo 5x3, predicha:', pred, 'esperada:', 15)\n",
    "\n",
    "# Triángulo base 8, altura 6\n",
    "test = np.array([[0,0,1,0, 0,8,6,0]])\n",
    "pred = model.predict(test)[0][0]\n",
    "print('Área triángulo 8x6, predicha:', pred, 'esperada:', 24)\n",
    "\n",
    "# Círculo radio 4\n",
    "test = np.array([[0,0,0,1, 0,0,0,4]])\n",
    "pred = model.predict(test)[0][0]\n",
    "print('Área círculo radio 4, predicha:', pred, 'esperada:', np.pi*4*4)"
   ]
  },
  {
   "cell_type": "markdown",
   "id": "4de1b390",
   "metadata": {},
   "source": [
    "> **Sugerencias:**\n",
    "- Puedes agregar más datos al dataset para mejorar la precisión.\n",
    "- Prueba con otras figuras, parámetros o funciones geométricas.\n",
    "- Cambia la arquitectura de la red para experimentar.\n",
    "\n",
    "---\n",
    "Autor: Dario Coronel\n",
    "Contacto: dario.coronel@gmail.com\n"
   ]
  }
 ],
 "metadata": {},
 "nbformat": 4,
 "nbformat_minor": 5
}
